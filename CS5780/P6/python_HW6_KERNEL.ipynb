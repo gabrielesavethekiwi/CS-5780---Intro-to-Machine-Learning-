{
    "cells": [
        {
            "cell_type": "code",
            "execution_count": 1,
            "metadata": {
                "collapsed": true
            },
            "outputs": [],
            "source": [
                "#<GRADED>\n",
                "import numpy as np\n",
                "from numpy.matlib import repmat\n",
                "import sys\n",
                "import time\n",
                "from l2distance import l2distance\n",
                "import visclassifier\n",
                "import matplotlib\n",
                "#matplotlib.use('PDF')\n",
                "import matplotlib.pyplot as plt\n",
                "\n",
                "from scipy.stats import linregress\n",
                "\n",
                "import pylab\n",
                "from matplotlib.animation import FuncAnimation\n",
                "\n",
                "#new torch imports\n",
                "import torch\n",
                "import torch.nn as nn\n",
                "import torch.optim as optim\n",
                "import torch.nn.functional as F\n",
                "\n",
                "#misc imports\n",
                "import random\n",
                "#<\/GRADED>\n",
                "\n",
                "%matplotlib notebook"
            ]
        },
        {
            "cell_type": "markdown",
            "metadata": {},
            "source": [
                "<!--announcements-->\n",
                "<blockquote>\n",
                "    <center>\n",
                "    <img src=\"yinyang.png\" width=\"400px\" \/><\/a>\n",
                "    <\/center>\n",
                "      <p><cite><center>\"Just as we have two eyes and two feet,<br>\n",
                "      duality is part of life.\"<br>\n",
                "<b>--Carlos Santana<\/b><br>\n",
                "      <\/center><\/cite><\/p>\n",
                "<\/blockquote>\n",
                "\n",
                "\n",
                "<h3>Introduction<\/h3>\n",
                "In this project, you will implement a linear support vector machine and one operating in kernel space. For this you will need to formulate the primal and dual optimization problems as quadratic programs. For this, we will be dipping into the shallow end with Course staffs' favorite ML framework: PyTorch!\n",
                "\n",
                "For full documentation and details, here is their site https:\/\/pytorch.org\/. PyTorch is an open source machine learning library based on the Torch library, used for applications such as computer vision and natural language processing, primarily developed by Facebook's AI Research lab. Pytorch is very neat because, as you have seen your assignments, in order to do gradient descent we've had to calculate gradient manually. No more! Pytorch performs automatic differentation, as long as we use their functions in our code.\n",
                "\n",
                "Note: Because we are working with Pytorch functions and Modules, we will be using excusively Pytorch tensors instead of numpy arrays. This allows us to multiply\/use torch parameter objects with our data directly. Pytorch tensors carry most of the same functionality as numpy arrays. "
            ]
        },
        {
            "cell_type": "markdown",
            "metadata": {},
            "source": [
                "We will start with a simple example of PyTorch, where we use gradient descent to find the parameters of a simple linear regression problem."
            ]
        },
        {
            "cell_type": "code",
            "execution_count": 2,
            "metadata": {
                "collapsed": true,
                "nbgrader": {
                    "grade": false,
                    "locked": false,
                    "solution": false
                }
            },
            "outputs": [],
            "source": [
                "def gen_regression_data(num_samples = 10000, ndims=1):\n",
                "    # generate random x samples for training and test sets\n",
                "    xTr = torch.rand(num_samples, ndims)\n",
                "    xTe = torch.rand(int(num_samples * 0.1), ndims)\n",
                "    \n",
                "    # choose some w and b vectors\n",
                "    gt_w = torch.ones(ndims, 1)\n",
                "    gt_b = torch.randn(1)\n",
                "    \n",
                "    # gaussian noise for linear regression\n",
                "    noise = np.random.rand(num_samples, 1) * 0.2\n",
                "    test_noise = np.random.rand(int(num_samples * 0.1), 1) * 0.2\n",
                "    \n",
                "    # add noise on the labels for the training set\n",
                "    yTr = xTr @ gt_w + gt_b + noise\n",
                "    yTe = xTe @ gt_w + gt_b + test_noise\n",
                "    \n",
                "    return xTr, xTe, yTr, yTe, gt_w, gt_b"
            ]
        },
        {
            "cell_type": "code",
            "execution_count": 3,
            "metadata": {
                "collapsed": true
            },
            "outputs": [],
            "source": [
                "lr_xTr, lr_xTe, lr_yTr, lr_yTe, gt_w, gt_b = gen_regression_data(num_samples = 1000, ndims=1)"
            ]
        },
        {
            "cell_type": "markdown",
            "metadata": {},
            "source": [
                "Now we will create our PyTorch model. PyTorch models inherit the class torch.nn.module, and you need to implement the function forward which is equivalent to a forward pass. Usually, you feed in batch of x samples as input and you get batch of outputs, but you could pass other parameters as well if needed. Every torch module will implement two functions. __init__ its constructor, and __forward__ which defines what happens when you call the module.\n",
                "\n",
                "Note we define two fields of the <code>LinearRegressionModel<\/code>:\n",
                "* <code>self.w<\/code>: The weight vector of the linear regression model. This is updated automatically by Pytorch in our training loop because we define it as a nn.Parameter (note requires_grad=True). Additionally <code>torch.randn(ndims, 1)<\/code> gives us an initialization for this weight vector.\n",
                "* <code>self.b<\/code>: The bias of the linear regression model. This is also updated automatically by Pytorch in our training loop."
            ]
        },
        {
            "cell_type": "code",
            "execution_count": 4,
            "metadata": {
                "collapsed": true
            },
            "outputs": [],
            "source": [
                "class LinearRegressionModel(nn.Module):\n",
                "    def __init__(self, ndims):\n",
                "        super(LinearRegressionModel, self).__init__()\n",
                "        \"\"\" pytorch optimizer checks for the properties of the model, and if\n",
                "            the torch.nn.Parameter requires gradient, then the model will update\n",
                "            the parameters automatically.\n",
                "        \"\"\"\n",
                "        self.w = nn.Parameter(torch.randn(ndims, 1), requires_grad=True)\n",
                "        self.b = nn.Parameter(torch.randn(1), requires_grad=True)\n",
                "    \n",
                "    def forward(self, x):\n",
                "        return x @ self.w + self.b"
            ]
        },
        {
            "cell_type": "markdown",
            "metadata": {},
            "source": [
                "For this example we use our familiar mean-squared error loss."
            ]
        },
        {
            "cell_type": "code",
            "execution_count": 5,
            "metadata": {
                "collapsed": true
            },
            "outputs": [],
            "source": [
                "def mse_loss(y_pred, y_true):\n",
                "    square_diff = torch.pow((y_pred-y_true), 2)\n",
                "    mean_error = 0.5 * torch.mean(square_diff)\n",
                "    return mean_error"
            ]
        },
        {
            "cell_type": "markdown",
            "metadata": {},
            "source": [
                "Here is a generic training loop in Pytorch, this will be very useful for you in your assignment. We have supplied comments per line to help walk you through what each different part does."
            ]
        },
        {
            "cell_type": "code",
            "execution_count": 6,
            "metadata": {
                "collapsed": true
            },
            "outputs": [],
            "source": [
                "def train_regression_model(xTr, yTr, num_epochs, reg_param, lr=1e-2, print_freq=100):\n",
                "    ndims = xTr.shape[1]\n",
                "    \n",
                "    model = LinearRegressionModel(ndims)  # initialize the model\n",
                "    optimizer = optim.SGD(model.parameters(), lr=lr)  # create an SGD optimizer for the model parameters\n",
                "    \n",
                "    for epoch in range(num_epochs):\n",
                "        # need to zero the gradients in the optimizer so we don't\n",
                "        # use the gradients from previous iterations\n",
                "        optimizer.zero_grad()  \n",
                "        pred = model.forward(xTr)  # compute model predictions\n",
                "        loss = mse_loss(pred, yTr) + reg_param * torch.norm(model.w)**2\n",
                "        loss.backward()  # compute the gradient wrt loss\n",
                "        optimizer.step()  # performs a step of gradient descent\n",
                "        if (epoch + 1) % print_freq == 0:\n",
                "            print('epoch {} loss {}'.format(epoch+1, loss.item()))\n",
                "    \n",
                "    return model  # return trained model"
            ]
        },
        {
            "cell_type": "code",
            "execution_count": 7,
            "metadata": {},
            "outputs": [],
            "source": [
                "model = train_regression_model(lr_xTr, lr_yTr, num_epochs=2000, reg_param=0.001, lr=0.1)\n",
                "avg_test_error = mse_loss(model.forward(lr_xTe), lr_yTe)\n",
                "print('avg test error', avg_test_error.item())"
            ]
        },
        {
            "cell_type": "markdown",
            "metadata": {},
            "source": [
                "Now, we have a trained model object that we can predict with by passing in input data via model.forward(x). Let's visualize how good of a fit our line is to the data!"
            ]
        },
        {
            "cell_type": "code",
            "execution_count": 8,
            "metadata": {},
            "outputs": [],
            "source": [
                "plt.plot(lr_xTr, model.forward(lr_xTr).detach(),linewidth=5.0, color=\"red\", label=\"Prediction Line\")\n",
                "plt.scatter(lr_xTr, lr_yTr, label=\"Train Points\")\n",
                "plt.scatter(lr_xTe, lr_yTe, label=\"Test Points\")\n",
                "plt.legend()\n",
                "plt.show()"
            ]
        },
        {
            "cell_type": "markdown",
            "metadata": {},
            "source": [
                "For the following assignment there are a bunch of PyTorch specfic functions that we believe will be very helpful for you. Those are:\n",
                "\n",
                "* <code>torch.clamp(input, min=None, max=None, *, out=None) <\/code>: Clamps all elements in input into the range [min, max]\n",
                "\n",
                "* <code>torch.sum(input, *, dtype=None) <\/code>: Returns the sum of all elements in the input tensor.\n",
                "\n",
                "* <code>torch.mean(input, *, dtype=None)<\/code>: Returns the mean value of all elements in the input tensor.\n",
                "\n",
                "* <code>torch.pow(input, exponent, *, out=None)<\/code>: Takes the power of each element in input with exponent and returns a tensor with the result.\n",
                "\n",
                "* <code>torch.exp(input, *, out=None)<\/code>: Returns a new tensor with the exponential of the elements of the input tensor."
            ]
        },
        {
            "cell_type": "markdown",
            "metadata": {},
            "source": [
                "<h3> Linear classification<\/h3>\n",
                "\n",
                "<p> The first part of the assignment is to implement a linear support vector machine. In order to do this, we are going to generate random data to classify:\n",
                "<\/p>"
            ]
        },
        {
            "cell_type": "code",
            "execution_count": 9,
            "metadata": {
                "collapsed": true
            },
            "outputs": [],
            "source": [
                "def genrandomdata(n=100,b=0.):\n",
                "    # generate random data and linearly separable labels\n",
                "    xTr = np.random.randn(n, 2)\n",
                "    # defining random hyperplane\n",
                "    w0 = np.random.rand(2, 1)\n",
                "    # assigning labels +1, -1 labels depending on what side of the plane they lie on\n",
                "    yTr = np.sign(np.dot(xTr, w0)+b).flatten()\n",
                "    return torch.from_numpy(xTr).float(), torch.from_numpy(yTr).float()"
            ]
        },
        {
            "cell_type": "markdown",
            "metadata": {},
            "source": [
                "<p>Remember the SVM formulation\n",
                "$$\\begin{aligned}\n",
                "             &\\min_{\\mathbf{w},b,\\xi} \\|\\mathbf{w}\\|^2_2+C \\sum_{i=1}^n \\xi_i\\\\\n",
                "       & \\text{such that }  \\ \\forall i:\\\\\n",
                "             & y_i(\\mathbf{w}^\\top \\mathbf{x}_i+b)\\geq 1-\\xi_i\\\\\n",
                "             & \\xi_i\\geq 0.\\\\\n",
                "\\end{aligned}\n",
                "$$\n",
                "This is called the \"primal\" formulation in contrast with the \"dual\" formulation we'll see later in this assignment. Recall that this is equivalent to the unconstrained formulation in terms of the hinge loss which we saw in <a href=\"https:\/\/www.cs.cornell.edu\/courses\/cs4780\/2022sp\/notes\/LectureNotes13.html\">Lecture 13<\/a>.\n",
                "\n",
                "Use the hinge loss to implement the function <code>primalSVM<\/code>, which takes in training data <code>xTr<\/code> (of shape $n\\times d$) and labels <code>yTr<\/code> (of shape $n$) with <code>yTr[i]<\/code>$\\in \\{-1,1\\}$. Note that we aren't doing linear programming: this is gradient descent optimization on the unconstrained hinge loss formulation so the constraints are something we do not worry about.<\/p>"
            ]
        },
        {
            "cell_type": "markdown",
            "metadata": {},
            "source": [
                "To warm up, implement <code>hinge_loss<\/code>. This function should be used to compute the loss\n",
                "$$\\max\\left( 1-y_{i}(\\mathbf{w}^T \\mathbf{x}+b),0 \\right)$$\n",
                "where `y_pred` takes on the value of $\\mathbf{w}^T \\mathbf{x} + b$. Working with torch tensors is a lot like working with numpy tensors, think about the best way to do tensor on tensor operations. <b>This method requires no loops<\/b>.\n",
                "\n",
                "Hint: <code>torch.clamp<\/code> might be useful here"
            ]
        },
        {
            "cell_type": "code",
            "execution_count": 40,
            "metadata": {
                "collapsed": true
            },
            "outputs": [],
            "source": [
                "#<GRADED>\n",
                "def hinge_loss(y_pred, y_true):\n",
                "    y_pred = torch.squeeze(y_pred)\n",
                "    raise NotImplementedError(\"your code goes here!\")\n",
                "#<\/GRADED>"
            ]
        },
        {
            "cell_type": "markdown",
            "metadata": {},
            "source": [
                "Next, implement <code>LinearSVM<\/code>. This is a module (similar to the one in the example above) which initializes a linear classifer in dimension <code>dim<\/code>. In this module, you will need to initialize the necessary parameters for a linear model and define the forward pass for an input $x$, which should produce the output `y_pred` that the `hinge_loss` function takes as input. Hint: It <b>should<\/b> look very similar to what you have done before."
            ]
        },
        {
            "cell_type": "code",
            "execution_count": 41,
            "metadata": {
                "collapsed": true
            },
            "outputs": [],
            "source": [
                "#<GRADED>\n",
                "class LinearClassifier(nn.Module):\n",
                "    \"\"\"Support Vector Machine\"\"\"\n",
                "\n",
                "    def __init__(self, dim):\n",
                "        super(LinearClassifier, self).__init__()\n",
                "        raise NotImplementedError(\"your code goes here!\")\n",
                "\n",
                "    def forward(self, x):\n",
                "        raise NotImplementedError(\"your code goes here!\")\n",
                "#<\/GRADED>"
            ]
        },
        {
            "cell_type": "markdown",
            "metadata": {},
            "source": [
                "Finally, implement <code>primalSVM<\/code>. This is a method which takes in a set of training data <code>xTr<\/code> and labels <code>yTr<\/code>, a number of epochs <code>num_epochs<\/code> to train for, and our SVM <code>C<\/code> hyper-parameter. You should return a lambda function <code>svmclassify<\/code> that produces a forward pass of your trained model."
            ]
        },
        {
            "cell_type": "code",
            "execution_count": 42,
            "metadata": {
                "collapsed": true
            },
            "outputs": [],
            "source": [
                "#<GRADED>\n",
                "def primalSVM(xTr, yTr, num_epochs=1000, C=1):\n",
                "    raise NotImplementedError(\"your code goes here!\")\n",
                "    return svmclassify\n",
                "#<\/GRADED>"
            ]
        },
        {
            "cell_type": "markdown",
            "metadata": {},
            "source": [
                "We can test your SVM primal solver with the following randomly generated data set. We label it in a way that it is guaranteed to be linearly separable. If your code works correctly the hyper-plane should separate all the $x$'s into the red half and all the $o$'s into the blue half. With sufficiently large values of $C$ (e.g. $C>10$) you should obtain $0\\%$ training error. "
            ]
        },
        {
            "cell_type": "code",
            "execution_count": 46,
            "metadata": {},
            "outputs": [],
            "source": [
                "xTr,yTr = genrandomdata()\n",
                "fun = primalSVM(xTr,yTr,C=10)\n",
                "visclassifier.visclassifier(fun,xTr,yTr)\n",
                "err=torch.mean((torch.sign(fun(xTr))!=yTr).float())\n",
                "print(\"Training error: %2.1f%%\" % (err*100))"
            ]
        },
        {
            "cell_type": "markdown",
            "metadata": {},
            "source": [
                "### Spiral data set\n",
                "\n",
                "<p>The linear classifier works great in simple linear cases. But what if the data is more complicated? We provide you with a \"spiral\" data set. You can load it and visualize it with the following two code snippets:\n",
                "<pre>"
            ]
        },
        {
            "cell_type": "code",
            "execution_count": 47,
            "metadata": {
                "collapsed": true
            },
            "outputs": [],
            "source": [
                "def spiraldata(N=300):\n",
                "    r = np.linspace(1,2*np.pi,N)\n",
                "    xTr1 = np.array([np.sin(2.*r)*r, np.cos(2*r)*r]).T\n",
                "    xTr2 = np.array([np.sin(2.*r+np.pi)*r, np.cos(2*r+np.pi)*r]).T\n",
                "    xTr = np.concatenate([xTr1, xTr2], axis=0)\n",
                "    yTr = np.concatenate([np.ones(N), -1 * np.ones(N)])\n",
                "    xTr = xTr + np.random.randn(xTr.shape[0], xTr.shape[1])*0.2\n",
                "    \n",
                "    xTe = xTr[::2,:]\n",
                "    yTe = yTr[::2]\n",
                "    xTr = xTr[1::2,:]\n",
                "    yTr = yTr[1::2]\n",
                "    \n",
                "    xTr = torch.tensor(xTr).float()\n",
                "    yTr = torch.tensor(yTr).float()\n",
                "    xTe = torch.tensor(xTe).float()\n",
                "    yTe = torch.tensor(yTe).float()\n",
                "            \n",
                "    vals, indices = torch.max(xTr, dim=0, keepdim=True)\n",
                "    xTr \/= (vals * 2.0)\n",
                "    vals, indices = torch.max(xTe, dim=0, keepdim=True)\n",
                "    xTe \/= (vals * 2.0)\n",
                "    \n",
                "    return xTr,yTr,xTe,yTe"
            ]
        },
        {
            "cell_type": "code",
            "execution_count": 48,
            "metadata": {},
            "outputs": [],
            "source": [
                "xTr,yTr,xTe,yTe=spiraldata()\n",
                "plt.figure()\n",
                "plt.scatter(xTr[yTr == 1, 0], xTr[yTr == 1, 1], c='b')\n",
                "plt.scatter(xTr[yTr != 1, 0], xTr[yTr != 1, 1], c='r')\n",
                "plt.legend([\"+1\",\"-1\"])\n",
                "plt.show()"
            ]
        },
        {
            "cell_type": "markdown",
            "metadata": {},
            "source": [
                "<p>If you apply your previously functioning linear classifier on this data set you will see that you get terrible results. Your training error will increase drastically. <\/p>"
            ]
        },
        {
            "cell_type": "code",
            "execution_count": 49,
            "metadata": {},
            "outputs": [],
            "source": [
                "fun=primalSVM(xTr,yTr,C=10)\n",
                "visclassifier.visclassifier(fun,xTr,yTr)\n",
                "err=torch.mean(((torch.sign(fun(xTr)))!=yTr).float())\n",
                "print(\"Training error: %2.1f%%\" % (err*100))"
            ]
        },
        {
            "cell_type": "markdown",
            "metadata": {},
            "source": [
                "<h3>Implementing a kernelized SVM<\/h3>\n",
                "\n",
                "<p> For a data set as complex as the spiral data set, you will need a more complex classifier. \n",
                "First implement the kernel function\n",
                "<pre>\tcomputeK(kernel_type,X,Z,kpar)<\/pre>\n",
                "It takes as input a kernel type <code>kernel_type<\/code> and two data sets $\\mathbf{X} \\in \\mathcal{R}^{n\\times d}$ and $\\mathbf{Z} \\in \\mathcal{R}^{m\\times d}$ and outputs a kernel matrix $\\mathbf{K}\\in{\\mathcal{R}^{n\\times m}}$. The last input, <code>kpar<\/code> specifies the kernel parameter (e.g. the inverse kernel width $\\gamma$ in the RBF case or the degree $p$ in the polynomial case.)\n",
                "\t<ol>\n",
                "\t<li>For the linear kernel (<code>kernel_type='linear'<\/code>) svm, use $k(\\mathbf{x},\\mathbf{z})=x^Tz$ <\/li> \n",
                "\t<li>For the radial basis function kernel (<code>kernel_type='rbf'<\/code>) svm use $k(\\mathbf{x},\\mathbf{z})=\\exp(-\\gamma ||x-z||^2)$ (gamma is a hyperparameter, passed as the value of kpar)<\/li>\n",
                "\t<li>For the polynomial kernel (<code>kernel_type='poly'<\/code>) use  $k(\\mathbf{x},\\mathbf{z})=(x^Tz + 1)^d$ (d is the degree of the polymial, passed as the value of kpar)<\/li>\n",
                "<\/ol>\n",
                "\n",
                "<p>You can use the function <b><code>l2distance<\/code><\/b> as a helperfunction, which is located in defined in one of your starter files l2distance.py.<\/p>"
            ]
        },
        {
            "cell_type": "code",
            "execution_count": 50,
            "metadata": {
                "collapsed": true
            },
            "outputs": [],
            "source": [
                "#<GRADED>\n",
                "def computeK(kernel_type, X, Z, kpar=0):\n",
                "    \"\"\"\n",
                "    function K = computeK(kernel_type, X, Z)\n",
                "    computes a matrix K such that Kij=k(x,z);\n",
                "    for three different function linear, rbf or polynomial.\n",
                "    \n",
                "    Input:\n",
                "    kernel_type: either 'linear','polynomial','rbf'\n",
                "    X: n input vectors of dimension d (nxd);\n",
                "    Z: m input vectors of dimension d (mxd);\n",
                "    kpar: kernel parameter (inverse kernel width gamma in case of RBF, degree in case of polynomial)\n",
                "    \n",
                "    OUTPUT:\n",
                "    K : nxm kernel Torch float tensor\n",
                "    \"\"\"\n",
                "    assert kernel_type in [\"linear\",\"polynomial\",\"poly\",\"rbf\"], \"Kernel type %s not known.\" % kernel_type\n",
                "    assert X.shape[1] == Z.shape[1], \"Input dimensions do not match\"\n",
                "    \n",
                "    raise NotImplementedError(\"your code goes here!\")\n",
                "    return K\n",
                "#<\/GRADED>"
            ]
        },
        {
            "cell_type": "markdown",
            "metadata": {},
            "source": [
                "<p>The following code snippet plots an image of the kernel matrix for the data points in the spiral set. Use it to test your <b><code>computeK<\/code><\/b> function:<\/p>"
            ]
        },
        {
            "cell_type": "code",
            "execution_count": 51,
            "metadata": {},
            "outputs": [],
            "source": [
                "xTr,yTr,xTe,yTe=spiraldata()\n",
                "K=computeK(\"rbf\",xTr,xTr,kpar=0.05)\n",
                "# plot an image of the kernel matrix\n",
                "plt.figure()\n",
                "plt.pcolormesh(K, cmap='jet')\n",
                "plt.show()"
            ]
        },
        {
            "cell_type": "markdown",
            "metadata": {},
            "source": [
                "A SVM with feature transformation $\\phi$ with associated kernel function $k$ (producing kernel matrix $K \\in \\mathbb{R}^{n \\times n}$ with $K_{ij} = k(\\mathbf{x}_i, \\mathbf{x}_j)$) would have the objective\n",
                "$$\n",
                "    \\ell(\\mathbf{w}, b) = \\| \\mathbf{w} \\|_2^2 + C\\sum_{i=1}^n \\max(1-y_i(\\mathbf{w}^\\top\\phi(\\mathbf{x}_i)+b),0).\n",
                "$$\n",
                "If we initialize $\\mathbf{w}$ to zero in gradient descent, it's not too hard to see that the gradients of $\\ell$ with respect to $\\mathbf{w}$ all lie in the span of $\\phi(\\mathbf{x}_i)$ (i.e. they can all be written as linear combinations of the transformed feature vectors). Let's leverage this to do a reparameterization, just like we did in lecture. Set\n",
                "$$\\mathbf{w} = \\sum_{i=1}^n \\beta_i \\phi(\\mathbf{x}_i)$$\n",
                "for new parameter $\\beta \\in \\mathbb{R}^n$. Then, we can see that the squared-norm of $\\mathbf{w}$ is\n",
                "$$\\begin{aligned} \\| \\mathbf{w} \\|_2^2 &= \\mathbf{w}^T \\mathbf{w} \\\\&= \\left( \\sum_{i=1}^n \\beta_i \\phi(\\mathbf{x}_i) \\right)^T \\left( \\sum_{j=1}^n \\beta_j \\phi(\\mathbf{x}_j) \\right) \\\\&= \\sum_{i=1}^n \\sum_{j=1}^n \\beta_i \\beta_j \\phi(\\mathbf{x}_i)^T \\phi(\\mathbf{x}_j) \\\\&= \\sum_{i=1}^n \\sum_{j=1}^n \\beta_i \\beta_j k(\\mathbf{x}_i, \\mathbf{x}_j) \\\\&= \\sum_{i=1}^n \\sum_{j=1}^n \\beta_i \\beta_j K_{ij} \\\\&= \\beta^T K \\beta. \\end{aligned}$$\n",
                "Similarly,\n",
                "$$\\mathbf{w}^\\top\\phi(\\mathbf{x}_i) = \\sum_{j=1}^n \\beta_j \\phi(\\mathbf{x}_j)^T \\phi(\\mathbf{x}_i) = \\sum_{j=1}^n \\beta_j K_{ji} = \\beta^T k_i$$\n",
                "where $k_i = Ke_i$ is the $i$th column of the kernel matrix $K$.\n",
                "This would yield the objective\n",
                "$$\n",
                "    \\ell(\\mathbf{w}, b) = \\beta^T K \\beta + C\\sum_{i=1}^n \\max(1-y_i(\\beta^T k_i + b),0).\n",
                "$$\n",
                "\n",
                "----\n",
                "\n",
                "As an aside, this transformation can be compared to the classic Lagrange \"dual\" formulation of the original SVM problem.\n",
                "$$\\begin{aligned}\n",
                "             \\mbox{minimize }& \\frac{1}{2} \\sum_{i,j}\\alpha_i \\alpha_j y_i y_j K_{ij} - \\sum_{i=1}^{n}\\alpha_i  \\\\\n",
                "             \\mbox{over }& \\alpha \\in \\mathbb{R}^n \\\\\n",
                "             \\mbox{subject to }& 0 \\leq \\alpha_i \\leq C\\\\\n",
                "             & \\sum_{i=1}^{n} \\alpha_i y_i = 0.\n",
                "\\end{aligned}$$\n",
                "<a href=\"https:\/\/en.wikipedia.org\/wiki\/Duality_(optimization)\">\"Duality\" of this sort<\/a> is a core concept in optimization, although not one that we cover in CS4\/5780.\n",
                "This dual program is equivalent to solving for the SVM \"primal\" where $\\mathbf{w}=\\sum_{i=1}^n y_i \\alpha_i \\phi(\\mathbf{x}_i)$ and $\\mathbf{K}_{ij}=k(\\mathbf{x}_i,\\mathbf{x}_j)=\\phi(\\mathbf{x}_i)^\\top\\phi(\\mathbf{x}_j)$, for the feature transformation $\\phi(\\cdot)$. This produces the same result as our analysis above after a change of variable, with $\\beta_i = \\alpha_iy_i$ and $\\beta \\in R^n$ (although it takes a bit of derivation to see why, and this sort of duality is beyond the scope of this course). For this reason, this sort of formulation of the kernelized SVM &mdash; where the optimization is done over a space of size $n$ rather than $d$ &mdash; is usually called the <b>\"dual SVM.\"<\/b>\n",
                "\n",
                "----\n",
                "\n",
                "Often, when we use a dual SVM in this way, the hinge loss is replaced with the <b>squared hinge loss<\/b>. This usually results in a similar classification boundary, but can be better for optimization because the squared hinge loss is continuously differentiable while the hinge loss is not (see https:\/\/arxiv.org\/pdf\/1404.1066.pdf for details). This roughly corresponds to using squared-error slack terms ($\\xi_i^2$) in the original SVM formulation rather than linear terms ($\\xi_i$).\n",
                "Concretely, using the squared hinge loss with kernel SVM gives us the loss function\n",
                "$$\n",
                "    \\ell(\\mathbf{w}, b) = \\frac{1}{2} \\beta^T K \\beta + \\frac{C}{2} \\sum_{i=1}^n \\max(1-y_i(\\beta^T k_i + b),0)^2\n",
                "$$\n",
                "and the corresponding optimization problem\n",
                "$$ \\min_{\\beta \\in \\mathbb{R}^n, b \\in \\mathbb{R}} \\;\\; \\frac{1}{2} \\beta^T K \\beta + \\frac{C}{2} \\sum_{i=1}^n \\max(1-y_i(\\beta^T k_i + b),0)^2$$\n",
                "where $k_i$ still denotes the kernel matrix row corresponding to the ith training example. <b>This squared-hinge-loss dual kernel SVM is what we are going to implement and evaluate in this assignment.<\/b>\n"
            ]
        },
        {
            "cell_type": "markdown",
            "metadata": {},
            "source": [
                "<p>\n",
                "    Implement the module \n",
                "    <pre>\n",
                "    KernelizedSVM(dim, kernel_type, kpar=0)\n",
                "    <\/pre>\n",
                "    This is a kernelized version of the SVM as defined above, which must maintain some kind of internal parameters for beta and b (hint: think what <code>dim<\/code> should be as a function of our training data) should be used for. Further, you are given <code>kernel_type<\/code> and <code>kpar<\/code>, which you should use in the creation of kernels by means of the method you wrote above <code>computeK<\/code>. For the forward pass of the kernelized SVM, recall that it is defined as $h(x) = w^\\top \\phi(x) + b$, where $w = \\sum_{i=1}^n \\beta_i\\phi(x_i)$. The output of your forward pass should be the classification itself of input data x.\n",
                "<\/p>"
            ]
        },
        {
            "cell_type": "code",
            "execution_count": null,
            "metadata": {
                "collapsed": true
            },
            "outputs": [],
            "source": [
                "#<GRADED>\n",
                "class KernelizedSVM(nn.Module):\n",
                "    def __init__(self, dim, kernel_type, kpar=0):\n",
                "        super(KernelizedSVM, self).__init__()\n",
                "        raise NotImplementedError(\"your code goes here!\")\n",
                "    \n",
                "    def forward(self, xTr, x):\n",
                "        raise NotImplementedError(\"your code goes here!\")\n",
                "#<\/GRADED>"
            ]
        },
        {
            "cell_type": "markdown",
            "metadata": {},
            "source": [
                "<p>\n",
                "    Implement the function \n",
                "    <pre>\n",
                "    kernelsvm_loss(kernelizedSVM, kernel_mat, yTr, C)\n",
                "    <\/pre>\n",
                "    It should implement the loss function described above for the equivalent primal formulation of the dual:\n",
                "    $$ min_{\\beta, b} \\frac{1}{2}\\beta^\\top K\\beta + \\frac{C}{2}\\sum_{i=1}^n {[\\max(1-y_i(\\beta^\\top k_i+b),0)]}^2$$\n",
                "  You are given a KernalizedSVM module (<code>kernelizedSVM<\/code>) which you defined above, the kernel (<code>kernel_mat<\/code>), the training labels (<code>yTr<\/code>), and the regularizatin paramater (<code>C<\/code>). \n",
                " \n",
                "Note that this function <b>requires no loops<\/b>, and that you may find this function especially helpful: \n",
                "<code>F.relu(x)<\/code> computes the <code>max(x,0)<\/code> in a way that allows for our optimizers to work (F is torch.nn.Functional, a library imported above) \n",
                "<\/p>"
            ]
        },
        {
            "cell_type": "code",
            "execution_count": null,
            "metadata": {
                "collapsed": true
            },
            "outputs": [],
            "source": [
                "#<GRADED>\n",
                "def kernelsvm_loss(kernelizedSVM, kernel_mat, yTr, C):\n",
                "    raise NotImplementedError(\"your code goes here!\")\n",
                "    return cumulative_loss\n",
                "#<\/GRADED>"
            ]
        },
        {
            "cell_type": "markdown",
            "metadata": {},
            "source": [
                "<p>\n",
                "    Implement the function \n",
                "    <pre>\n",
                "    dualSVM(xTr, yTr, kernel_type, num_epochs, C, kpar, lr)\n",
                "    <\/pre>\n",
                "    It should use your functions <code><b>kernelsvm_loss<\/b><\/code>, <code><b>computeK<\/b><\/code>, and <code><b>KernelizedSVM<\/b><\/code> to solve the SVM dual problem of an SVM specified by a training data set (<code><b>xTr,yTr<\/b><\/code>), a regularization parameter (<code>C<\/code>), a kernel type (<code>ktype<\/code>) and kernel parameter (<code>lmbda<\/code>), to be used as kpar in Kernel construction. This will once again be a training loop similar to the primalSVM above. You should return a lambda function <code>svmclassify<\/code> that takes in a single test example as an argument and outputs the forward pass of your trained model on that example. <b>You should not return the KernelizedSVM object itself.<\/b>\n",
                "<\/p>"
            ]
        },
        {
            "cell_type": "code",
            "execution_count": null,
            "metadata": {
                "collapsed": true
            },
            "outputs": [],
            "source": [
                "#<GRADED>\n",
                "def dualSVM(xTr, yTr, kernel_type, num_epochs=100, C=1, lmbda=0, lr=1e-3):\n",
                "    raise NotImplementedError(\"your code goes here!\")\n",
                "    return svmclassify\n",
                "#<\/GRADED>"
            ]
        },
        {
            "cell_type": "markdown",
            "metadata": {},
            "source": [
                "<p>Now we try the SVM with RBF kernel on the spiral data. If you implemented it correctly, train and test error should be close to zero.<\/p>"
            ]
        },
        {
            "cell_type": "code",
            "execution_count": null,
            "metadata": {
                "collapsed": true
            },
            "outputs": [],
            "source": [
                "xTr,yTr,xTe,yTe=spiraldata()\n",
                "ktype=\"rbf\"\n",
                "svmclassify=dualSVM(xTr, yTr, kernel_type=ktype, num_epochs=1000, C=1, lmbda=100, lr=1e-3)\n",
                "\n",
                "visclassifier.visclassifier(svmclassify,xTr,yTr)\n",
                "# compute training and testing error\n",
                "predsTr=svmclassify(xTr)\n",
                "trainingerr=torch.mean((torch.sign(predsTr)!=yTr).float())\n",
                "print(\"Training error: %2.4f\" % trainingerr)\n",
                "\n",
                "predsTe=svmclassify(xTe)\n",
                "testingerr=torch.mean((torch.sign(predsTe)!=yTe).float())\n",
                "print(\"Testing error: %2.4f\" % testingerr)"
            ]
        },
        {
            "cell_type": "markdown",
            "metadata": {},
            "source": [
                "SVMs are pretty sensitive to hyper-parameters. We ask you to implement a cross-validation function. <code>cross_validation<\/code> which takes training data <code>xTr<\/code>, training labels <code>yTr<\/code>, validation data <code>xValid<\/code>, validation labels <code>yValid<\/code>, kernel type <code>ktype<\/code>, list of possible C values <code>CList<\/code>, list of lambda values for kernel generation <code>lmbdaList<\/code>, and list of learning rates <code>lr_list<\/code>.\n",
                "\n",
                "Note that we don't have <code>epochs<\/code> as a hyper-parameter to tune even, though the number of epochs we train on can vastly change the performance of our model. Generally we train with gradient descent <b>until convergence<\/b> (when train\/validation loss stop decreasing); therefore, something you can do to get a good idea of what amount of epochs you need is plot [epoch number x (training,validation)] loss! <b>This part will not be tested<\/b>, but is something that might help. "
            ]
        },
        {
            "cell_type": "code",
            "execution_count": null,
            "metadata": {
                "collapsed": true
            },
            "outputs": [],
            "source": [
                "#<GRADED>\n",
                "def cross_validation(xTr,yTr,xValid,yValid,ktype,CList,lmbdaList,lr_List):\n",
                "    \"\"\"\n",
                "    function bestC,bestLmbda,ErrorMatrix = cross_validation(xTr,yTr,xValid,yValid,ktype,CList,lmbdaList);\n",
                "    Use the parameter search to find the optimal parameter,\n",
                "    Individual models are trained on (xTr,yTr) while validated on (xValid,yValid)\n",
                "    \n",
                "    Input:\n",
                "        xTr      | training data (nxd)\n",
                "        yTr      | training labels (nx1)\n",
                "        xValid   | training data (mxd)\n",
                "        yValid   | training labels (mx1)\n",
                "        ktype    | the type of kernelization: 'rbf','polynomial','linear'\n",
                "        CList    | The list of values to try for the SVM regularization parameter C (ax1)\n",
                "        lmbdaList| The list of values to try for the kernel parameter lmbda- degree for poly, inverse width for rbf (bx1)\n",
                "        lr_list  | The list of values to try for the learning rate of our optimizer\n",
                "    \n",
                "    Output:\n",
                "        bestC      | the best C parameter\n",
                "        bestLmbda  | the best Lmbda parameter\n",
                "        bestLr     | the best Lr parameter\n",
                "        ErrorMatrix| the test error rate for each given (C, Lmbda Lr) tuple when trained on (xTr,yTr) and tested on (xValid,yValid)\n",
                "    \"\"\"\n",
                "    \n",
                "    raise NotImplementedError(\"your code goes here!\")\n",
                "    \n",
                "    return bestC,bestLmbda,bestLr,ErrorMatrix\n",
                "#<\/GRADED>"
            ]
        },
        {
            "cell_type": "code",
            "execution_count": null,
            "metadata": {
                "collapsed": true
            },
            "outputs": [],
            "source": [
                "xTr,yTr,xValid,yValid=spiraldata(100)\n",
                "CList=(2.0**np.linspace(-1,5,7))\n",
                "lmbdaList=(np.linspace(0.1,0.5,5))\n",
                "lrList=(np.linspace(0.001,0.005,5))\n",
                "\n",
                "bestC,bestLmbda,bestLr,ErrorMatrix = cross_validation(xTr,yTr,xValid,yValid,'rbf',CList,lmbdaList,lrList)"
            ]
        },
        {
            "cell_type": "markdown",
            "metadata": {},
            "source": [
                "Competition: we ask you to implement function autosvm, which given xTr and yTr, splits them into training data and validation data, and then uses a hyperparameter search to find the optimal hyper parameters. \n",
                "\n",
                "Function autosvm should return a function which will act as a classifier on xTe.\n",
                "\n",
                "You have a 5 minute time limit on multiple datasets, each dataset having different optimal hyperparameters, so you should strive for a good method of finding hyperparameters (within the time limit) instead of just trying to find a static set of good hyperparameters. \n",
                "\n",
                "You will get extra credit for the competition if you can beat the base benchmark of 34% error rate."
            ]
        },
        {
            "cell_type": "code",
            "execution_count": null,
            "metadata": {
                "collapsed": true
            },
            "outputs": [],
            "source": [
                "#<GRADED>\n",
                "def autosvm(xTr,yTr):\n",
                "    \n",
                "    return\n",
                "\n",
                "#<\/GRADED>"
            ]
        },
        {
            "cell_type": "code",
            "execution_count": null,
            "metadata": {
                "collapsed": true
            },
            "outputs": [],
            "source": []
        }
    ],
    "metadata": {
        "kernelspec": {
            "display_name": "Python 3.8",
            "language": "python",
            "name": "python38"
        },
        "language_info": {
            "codemirror_mode": {
                "name": "ipython",
                "version": 3
            },
            "file_extension": ".py",
            "mimetype": "text\/x-python",
            "name": "python",
            "nbconvert_exporter": "python",
            "pygments_lexer": "ipython3",
            "version": "3.8.7"
        }
    },
    "nbformat": 4,
    "nbformat_minor": 5
}